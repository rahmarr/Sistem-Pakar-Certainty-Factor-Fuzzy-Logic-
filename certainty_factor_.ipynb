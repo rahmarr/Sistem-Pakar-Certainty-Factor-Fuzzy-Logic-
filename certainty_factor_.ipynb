{
  "nbformat": 4,
  "nbformat_minor": 0,
  "metadata": {
    "colab": {
      "provenance": [],
      "authorship_tag": "ABX9TyPQDdAL5VdFeA0Ex1qBA92y",
      "include_colab_link": true
    },
    "kernelspec": {
      "name": "python3",
      "display_name": "Python 3"
    },
    "language_info": {
      "name": "python"
    }
  },
  "cells": [
    {
      "cell_type": "markdown",
      "metadata": {
        "id": "view-in-github",
        "colab_type": "text"
      },
      "source": [
        "<a href=\"https://colab.research.google.com/github/rahmarr/Sistem-Pakar-Certainty-Factor-Fuzzy-Logic-/blob/main/certainty_factor_.ipynb\" target=\"_parent\"><img src=\"https://colab.research.google.com/assets/colab-badge.svg\" alt=\"Open In Colab\"/></a>"
      ]
    },
    {
      "cell_type": "code",
      "execution_count": null,
      "metadata": {
        "colab": {
          "base_uri": "https://localhost:8080/"
        },
        "id": "OX9H9eRxAAPT",
        "outputId": "5724b9ff-be70-4055-c7c0-13fd1f94aef2"
      },
      "outputs": [
        {
          "output_type": "stream",
          "name": "stdout",
          "text": [
            "CF diagnosis Flu: 0.82\n"
          ]
        }
      ],
      "source": [
        "gejala_user = {\n",
        "    \"demam\": 0.7,\n",
        "    \"batuk\": 0.5,\n",
        "    \"sakit_tenggorokan\": 0.6\n",
        "}\n",
        "\n",
        "pengetahuan = {\n",
        "    \"flu\": {\n",
        "        \"demam\": 0.8,\n",
        "        \"batuk\": 0.7,\n",
        "        \"sakit_tenggorokan\": 0.6\n",
        "    }\n",
        "}\n",
        "\n",
        "def hitung_cf(gejala_user, pengetahuan_pakar):\n",
        "    cf_total = 0\n",
        "    first = True\n",
        "    for gejala, cf_user in gejala_user.items():\n",
        "        if gejala in pengetahuan_pakar:\n",
        "            cf_pakar = pengetahuan_pakar[gejala]\n",
        "            cf = cf_user * cf_pakar\n",
        "            if first:\n",
        "                cf_total = cf\n",
        "                first = False\n",
        "            else:\n",
        "                cf_total = cf_total + cf * (1 - cf_total)\n",
        "    return cf_total\n",
        "\n",
        "cf_flu = hitung_cf(gejala_user, pengetahuan[\"flu\"])\n",
        "print(f\"CF diagnosis Flu: {cf_flu:.2f}\")"
      ]
    },
    {
      "cell_type": "code",
      "source": [
        "gejala_user = {\n",
        "    \"nyeri_sendi\": 0.8,\n",
        "    \"bengkak_sendi\": 0.7,\n",
        "    \"kaku_sendi_pagi\": 0.9,\n",
        "    \"demam_ringan\": 0.3\n",
        "}\n",
        "\n",
        "pengetahuan = {\n",
        "    \"rheumatoid_arthritis\": {\n",
        "        \"nyeri_sendi\": 0.9,\n",
        "        \"bengkak_sendi\": 0.8,\n",
        "        \"kaku_sendi_pagi\": 0.9,\n",
        "        \"demam_ringan\": 0.4\n",
        "    },\n",
        "    \"osteoarthritis\": {\n",
        "        \"nyeri_sendi\": 0.8,\n",
        "        \"bengkak_sendi\": 0.6,\n",
        "        \"kaku_sendi_pagi\": 0.5\n",
        "    }\n",
        "}\n",
        "\n",
        "def hitung_cf(gejala_user, pengetahuan_pakar):\n",
        "    cf_total = 0\n",
        "    first = True\n",
        "    for gejala, cf_user in gejala_user.items():\n",
        "        if gejala in pengetahuan_pakar:\n",
        "            cf_pakar = pengetahuan_pakar[gejala]\n",
        "            cf = cf_user * cf_pakar\n",
        "            if first:\n",
        "                cf_total = cf\n",
        "                first = False\n",
        "            else:\n",
        "                cf_total = cf_total + cf * (1 - cf_total)\n",
        "    return cf_total\n",
        "\n",
        "# Mendiagnosa dua penyakit berdasarkan gejala yang sama\n",
        "for penyakit in pengetahuan:\n",
        "    cf_result = hitung_cf(gejala_user, pengetahuan[penyakit])\n",
        "    print(f\"CF diagnosis {penyakit}: {cf_result:.2f}\")"
      ],
      "metadata": {
        "colab": {
          "base_uri": "https://localhost:8080/"
        },
        "id": "BVZQPot0HDkI",
        "outputId": "8f9e4c51-7118-44a0-afbd-335566d52398"
      },
      "execution_count": null,
      "outputs": [
        {
          "output_type": "stream",
          "name": "stdout",
          "text": [
            "CF diagnosis rheumatoid_arthritis: 0.98\n",
            "CF diagnosis osteoarthritis: 0.89\n"
          ]
        }
      ]
    },
    {
      "cell_type": "code",
      "source": [
        "# Example 4: Diabetes Diagnosis with Weighted Symptoms\n",
        "gejala_user = {\n",
        "    \"sering_haus\": 0.8,\n",
        "    \"sering_buang_air_kecil\": 0.9,\n",
        "    \"penurunan_berat_badan\": 0.6,\n",
        "    \"luka_lambat_sembuh\": 0.7,\n",
        "    \"penglihatan_kabur\": 0.5\n",
        "}\n",
        "\n",
        "# Pengetahuan pakar dengan bobot gejala\n",
        "pengetahuan = {\n",
        "    \"diabetes_tipe1\": {\n",
        "        \"sering_haus\": 0.9,\n",
        "        \"sering_buang_air_kecil\": 0.9,\n",
        "        \"penurunan_berat_badan\": 0.8,\n",
        "        \"luka_lambat_sembuh\": 0.5\n",
        "    },\n",
        "    \"diabetes_tipe2\": {\n",
        "        \"sering_haus\": 0.7,\n",
        "        \"sering_buang_air_kecil\": 0.7,\n",
        "        \"penurunan_berat_badan\": 0.5,\n",
        "        \"luka_lambat_sembuh\": 0.8,\n",
        "        \"penglihatan_kabur\": 0.6\n",
        "    }\n",
        "}\n",
        "\n",
        "# Bobot kepentingan gejala (1-5)\n",
        "bobot_gejala = {\n",
        "    \"sering_haus\": 4,\n",
        "    \"sering_buang_air_kecil\": 4,\n",
        "    \"penurunan_berat_badan\": 3,\n",
        "    \"luka_lambat_sembuh\": 5,\n",
        "    \"penglihatan_kabur\": 2\n",
        "}\n",
        "\n",
        "def hitung_cf_weighted(gejala_user, pengetahuan_pakar, bobot):\n",
        "    cf_total = 0\n",
        "    first = True\n",
        "    total_bobot = 0\n",
        "\n",
        "    for gejala, cf_user in gejala_user.items():\n",
        "        if gejala in pengetahuan_pakar and gejala in bobot:\n",
        "            cf_pakar = pengetahuan_pakar[gejala]\n",
        "            gejala_weight = bobot[gejala] / 5  # Normalisasi bobot (1-5) -> (0.2-1.0)\n",
        "            cf = cf_user * cf_pakar * gejala_weight\n",
        "\n",
        "            if first:\n",
        "                cf_total = cf\n",
        "                first = False\n",
        "            else:\n",
        "                cf_total = cf_total + cf * (1 - cf_total)\n",
        "\n",
        "            total_bobot += gejala_weight\n",
        "\n",
        "    # Normalisasi hasil berdasarkan total bobot\n",
        "    if total_bobot > 0:\n",
        "        cf_total = cf_total / total_bobot * len([g for g in gejala_user if g in pengetahuan_pakar])\n",
        "\n",
        "    return cf_total\n",
        "\n",
        "for penyakit in pengetahuan:\n",
        "    cf_result = hitung_cf_weighted(gejala_user, pengetahuan[penyakit], bobot_gejala)\n",
        "    print(f\"CF diagnosis {penyakit}: {cf_result:.2f}\")"
      ],
      "metadata": {
        "colab": {
          "base_uri": "https://localhost:8080/"
        },
        "id": "rJXlje_QHMc-",
        "outputId": "4fe399d9-a036-41a2-8c3c-552f09f1ef1d"
      },
      "execution_count": null,
      "outputs": [
        {
          "output_type": "stream",
          "name": "stdout",
          "text": [
            "CF diagnosis diabetes_tipe1: 1.16\n",
            "CF diagnosis diabetes_tipe2: 1.27\n"
          ]
        }
      ]
    },
    {
      "cell_type": "markdown",
      "source": [
        "Tugas Sistem Pakar (Certainty Factor)"
      ],
      "metadata": {
        "id": "WGTvkkPAGRSw"
      }
    },
    {
      "cell_type": "code",
      "source": [
        "# Example 4: Diabetes Diagnosis with Weighted Symptoms\n",
        "# Menambahkan 5 gejala baru termasuk 'demam'\n",
        "\n",
        "gejala_user = {\n",
        "    \"sering_haus\": 0.8,\n",
        "    \"sering_buang_air_kecil\": 0.9,\n",
        "    \"penurunan_berat_badan\": 0.6,\n",
        "    \"luka_lambat_sembuh\": 0.7,\n",
        "    \"penglihatan_kabur\": 0.5,\n",
        "    \"demam\": 0.2,                      # Gejala baru dengan nilai rendah\n",
        "    \"mudah_lelah\": 0.7,               # Gejala baru\n",
        "    \"gatal_gatal\": 0.6,               # Gejala baru\n",
        "    \"kesemutan\": 0.5,                 # Gejala baru\n",
        "    \"infeksi_kulit\": 0.4              # Gejala baru\n",
        "}\n",
        "\n",
        "# Menambahkan pengetahuan pakar untuk gejala baru\n",
        "pengetahuan = {\n",
        "    \"diabetes_tipe1\": {\n",
        "        \"sering_haus\": 0.9,\n",
        "        \"sering_buang_air_kecil\": 0.9,\n",
        "        \"penurunan_berat_badan\": 0.8,\n",
        "        \"luka_lambat_sembuh\": 0.5,\n",
        "        \"demam\": 0.3,\n",
        "        \"mudah_lelah\": 0.6,\n",
        "        \"gatal_gatal\": 0.4\n",
        "    },\n",
        "    \"diabetes_tipe2\": {\n",
        "        \"sering_haus\": 0.7,\n",
        "        \"sering_buang_air_kecil\": 0.7,\n",
        "        \"penurunan_berat_badan\": 0.5,\n",
        "        \"luka_lambat_sembuh\": 0.8,\n",
        "        \"penglihatan_kabur\": 0.6,\n",
        "        \"demam\": 0.4,\n",
        "        \"kesemutan\": 0.5,\n",
        "        \"infeksi_kulit\": 0.6\n",
        "    }\n",
        "}\n",
        "\n",
        "# Menambahkan bobot untuk gejala baru\n",
        "bobot_gejala = {\n",
        "    \"sering_haus\": 4,\n",
        "    \"sering_buang_air_kecil\": 4,\n",
        "    \"penurunan_berat_badan\": 3,\n",
        "    \"luka_lambat_sembuh\": 5,\n",
        "    \"penglihatan_kabur\": 2,\n",
        "    \"demam\": 2,\n",
        "    \"mudah_lelah\": 3,\n",
        "    \"gatal_gatal\": 3,\n",
        "    \"kesemutan\": 2,\n",
        "    \"infeksi_kulit\": 3\n",
        "}\n",
        "\n",
        "# Fungsi tetap sama\n",
        "def hitung_cf_weighted(gejala_user, pengetahuan_pakar, bobot):\n",
        "    cf_total = 0\n",
        "    first = True\n",
        "    total_bobot = 0\n",
        "\n",
        "    for gejala, cf_user in gejala_user.items():\n",
        "        if gejala in pengetahuan_pakar and gejala in bobot:\n",
        "            cf_pakar = pengetahuan_pakar[gejala]\n",
        "            gejala_weight = bobot[gejala] / 5  # Normalisasi bobot (1-5) -> (0.2-1.0)\n",
        "            cf = cf_user * cf_pakar * gejala_weight\n",
        "\n",
        "            if first:\n",
        "                cf_total = cf\n",
        "                first = False\n",
        "            else:\n",
        "                cf_total = cf_total + cf * (1 - cf_total)\n",
        "\n",
        "            total_bobot += gejala_weight\n",
        "\n",
        "    # Normalisasi hasil berdasarkan total bobot\n",
        "    if total_bobot > 0:\n",
        "        cf_total = cf_total / total_bobot * len([g for g in gejala_user if g in pengetahuan_pakar])\n",
        "\n",
        "    return cf_total\n",
        "\n",
        "# Menampilkan hasil per penyakit\n",
        "for penyakit in pengetahuan:\n",
        "    cf_result = hitung_cf_weighted(gejala_user, pengetahuan[penyakit], bobot_gejala)\n",
        "    print(f\"CF diagnosis {penyakit}: {cf_result:.2f}\")\n"
      ],
      "metadata": {
        "colab": {
          "base_uri": "https://localhost:8080/"
        },
        "id": "SwAlM2E1G4OO",
        "outputId": "c7c79831-2c48-487d-ba70-69f6b40b2720"
      },
      "execution_count": 1,
      "outputs": [
        {
          "output_type": "stream",
          "name": "stdout",
          "text": [
            "CF diagnosis diabetes_tipe1: 1.40\n",
            "CF diagnosis diabetes_tipe2: 1.50\n"
          ]
        }
      ]
    },
    {
      "cell_type": "markdown",
      "source": [],
      "metadata": {
        "id": "g-hiIeOCBj9H"
      }
    },
    {
      "cell_type": "markdown",
      "source": [
        "Penjelasan Perubahan:\n",
        "\n",
        "1. Gejala \"demam\" ditambahkan dengan nilai 0.2. Karena nilai CF user rendah dan bobot juga kecil (2), kontribusinya ke CF total jadi kecil.\n",
        "2. Meski \"demam\" ditambahkan, ia tidak terlalu mempengaruhi hasil akhir karena nilainya kecil. Namun tetap menambah variasi dan informasi dalam proses diagnosis.\n",
        "3. Penambahan gejala baru lainnya seperti \"mudah_lelah\", \"gatal_gatal\", dll. dapat membantu meningkatkan akurasi diagnosis bila bobot dan CF-nya signifikan.\n",
        "4. Jika nilai \"demam\" dinaikkan ke 0.8 misalnya, maka kontribusinya akan lebih terasa dan bisa menggeser diagnosis tergantung relasi ke penyakit tertentu.\n",
        "\n"
      ],
      "metadata": {
        "id": "KdW3UetrHAwZ"
      }
    }
  ]
}